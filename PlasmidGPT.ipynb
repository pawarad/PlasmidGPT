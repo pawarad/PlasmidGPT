{
  "nbformat": 4,
  "nbformat_minor": 0,
  "metadata": {
    "colab": {
      "provenance": [],
      "gpuType": "T4",
      "authorship_tag": "ABX9TyMiri6qk9OzPJPMDtVFw5Ko",
      "include_colab_link": true
    },
    "kernelspec": {
      "name": "python3",
      "display_name": "Python 3"
    },
    "language_info": {
      "name": "python"
    },
    "accelerator": "GPU"
  },
  "cells": [
    {
      "cell_type": "markdown",
      "metadata": {
        "id": "view-in-github",
        "colab_type": "text"
      },
      "source": [
        "<a href=\"https://colab.research.google.com/github/pawarad/PlasmidGPT/blob/main/PlasmidGPT.ipynb\" target=\"_parent\"><img src=\"https://colab.research.google.com/assets/colab-badge.svg\" alt=\"Open In Colab\"/></a>"
      ]
    },
    {
      "cell_type": "code",
      "execution_count": 9,
      "metadata": {
        "id": "WIUYdXe6tYcM"
      },
      "outputs": [],
      "source": [
        "# read it in to inspect it\n",
        "with open('plasmid_data.txt', 'r', encoding='utf-8') as f:\n",
        "    text = f.read()"
      ]
    },
    {
      "cell_type": "code",
      "source": [
        "print(\"length of dataset in characters: \", len(text))"
      ],
      "metadata": {
        "colab": {
          "base_uri": "https://localhost:8080/"
        },
        "id": "FKB95IsStoqe",
        "outputId": "f1e96275-7394-48a6-c554-5919a9fce685"
      },
      "execution_count": 10,
      "outputs": [
        {
          "output_type": "stream",
          "name": "stdout",
          "text": [
            "length of dataset in characters:  82837504\n"
          ]
        }
      ]
    },
    {
      "cell_type": "code",
      "source": [
        "# let's look at the first 1000 characters\n",
        "print(text[:1000])"
      ],
      "metadata": {
        "colab": {
          "base_uri": "https://localhost:8080/"
        },
        "id": "T5zGSdnpuDm6",
        "outputId": "49c2dd05-a696-4c39-d0b8-2e72c4cf11cf"
      },
      "execution_count": 11,
      "outputs": [
        {
          "output_type": "stream",
          "name": "stdout",
          "text": [
            ">Escherichia coli strain B20123 plasmid pB20123_4, complete sequence\n",
            "ATGAGCGCCGCGCTTCAATACTTCGACGAAAATTTACCCCATCGTCCCTATCACACGGATGATCTCGCTTTTGGTCTTCGCATCTCCGGCAAAGGGCGTGCGCTTCTTGCGCGGTACATACAGCAGAACCAGCCTCATGCGCAGTTCTGGCTGGTTTTTGACGTTGACCGCGAGGGGGCTGCGATTGACTGGAGCGACCGGAACGCTCCCGCGCCGAACATCACCGTTAAAAATCCTGTGAACGGACACGCTCACCTGCTCTACGCACTCAACATCGCCGTGAGAACCGCGCCTGATGCCTCGGTTAAGGCGCTGAAATATGCCGCAGCGGTTGAACGTTCGCTGTGTGAGAAACTTTGTGCGGATGTGAACTACAGCGGCCTGATTTGCAAAAATCCGTTCCACCTGGAATGGCTGGTGATGGAGTGGCGCGAGGAAGCCTATACCCTCGATGAACTGGCTGATTATCTCGATTTGAGCGCCTCAGAGCGTCGTAGCATCGATAAACATTACGGGATGGGGCGAAACTGCCACCTGTTCGAAATGACGCGCAAATGGGCTTACAGGGCGATTCGTCAGGGCTGGCCAGCGTTCTCACAGTGGCTTGAAGCGGTGATCCAGCGTGTCGAAATGTACAATGCATCGCTTCCCGTTCCGCTTTCACTGGCTGAATGTCGGGCTATTGGCAAGAGCATTGCGAAATACACGCACAGGAACTTCACGCCGGAAACTTTCGCACAGTATGTGGCTGATACGCACACGCCAGAAATTCAGGCTGCACGCGGTCGCAAGGGCGGTTCTAAGTCTAAGCGCAGCACAGTAGCTACATCTGCACGCACGCTGAAACCGTGGGAGGCATTAGGGATCAGTCGCGCCTGGTATTACCAACTGAAAAAACGAGGTCTCGTAGAGTAGACCAAATAAGCCTATA\n"
          ]
        }
      ]
    },
    {
      "cell_type": "code",
      "source": [
        "# here are all the unique characters that occur in this text\n",
        "chars = sorted(list(set(text)))\n",
        "vocab_size = len(chars)\n",
        "print(''.join(chars))\n",
        "print(vocab_size)"
      ],
      "metadata": {
        "colab": {
          "base_uri": "https://localhost:8080/"
        },
        "id": "IVxbKwzkuHli",
        "outputId": "b15b2a1a-bf31-4391-8f93-3d9cbae8d147"
      },
      "execution_count": 12,
      "outputs": [
        {
          "output_type": "stream",
          "name": "stdout",
          "text": [
            "\n",
            " ,-./0123456789:>ABCDEFGHIJKLMNOPRSTUVYZ_abcdefghiklmnopqrstuvwxyz\n",
            "67\n"
          ]
        }
      ]
    },
    {
      "cell_type": "code",
      "source": [
        "# create a mapping from characters to integers\n",
        "stoi = { ch:i for i,ch in enumerate(chars) }\n",
        "itos = { i:ch for i,ch in enumerate(chars) }\n",
        "encode = lambda s: [stoi[c] for c in s] # encoder: take a string, output a list of integers\n",
        "decode = lambda l: ''.join([itos[i] for i in l]) # decoder: take a list of integers, output a string\n",
        "\n",
        "print(encode(\"Escherichia coli strain B20123 plasmid pB20123_4, complete sequence\"))\n",
        "print(decode(encode(\"Escherichia coli strain B20123 plasmid pB20123_4, complete sequence\")))"
      ],
      "metadata": {
        "colab": {
          "base_uri": "https://localhost:8080/"
        },
        "id": "kQG2Jrx9uLZR",
        "outputId": "203c8bdc-8549-4094-fdcd-4ff2e31b586f"
      },
      "execution_count": 13,
      "outputs": [
        {
          "output_type": "stream",
          "name": "stdout",
          "text": [
            "[22, 59, 44, 49, 46, 58, 50, 44, 49, 50, 42, 1, 44, 55, 52, 50, 1, 59, 60, 58, 42, 50, 54, 1, 19, 8, 6, 7, 8, 9, 1, 56, 52, 42, 59, 53, 50, 45, 1, 56, 19, 8, 6, 7, 8, 9, 41, 10, 2, 1, 44, 55, 53, 56, 52, 46, 60, 46, 1, 59, 46, 57, 61, 46, 54, 44, 46]\n",
            "Escherichia coli strain B20123 plasmid pB20123_4, complete sequence\n"
          ]
        }
      ]
    },
    {
      "cell_type": "code",
      "source": [
        "# let's now encode the entire text dataset and store it into a torch.Tensor\n",
        "import torch # we use PyTorch: https://pytorch.org\n",
        "data = torch.tensor(encode(text), dtype=torch.long)\n",
        "print(data.shape, data.dtype)\n",
        "print(data[:1000]) # the 1000 characters we looked at earier will to the GPT look like this"
      ],
      "metadata": {
        "colab": {
          "base_uri": "https://localhost:8080/"
        },
        "id": "VknyeBeSuUOy",
        "outputId": "245d45e6-561a-461f-80d5-24233f8f330b"
      },
      "execution_count": 14,
      "outputs": [
        {
          "output_type": "stream",
          "name": "stdout",
          "text": [
            "torch.Size([82837504]) torch.int64\n",
            "tensor([17, 22, 59, 44, 49, 46, 58, 50, 44, 49, 50, 42,  1, 44, 55, 52, 50,  1,\n",
            "        59, 60, 58, 42, 50, 54,  1, 19,  8,  6,  7,  8,  9,  1, 56, 52, 42, 59,\n",
            "        53, 50, 45,  1, 56, 19,  8,  6,  7,  8,  9, 41, 10,  2,  1, 44, 55, 53,\n",
            "        56, 52, 46, 60, 46,  1, 59, 46, 57, 61, 46, 54, 44, 46,  0, 18, 36, 24,\n",
            "        18, 24, 20, 24, 20, 20, 24, 20, 24, 20, 36, 36, 20, 18, 18, 36, 18, 20,\n",
            "        36, 36, 20, 24, 18, 20, 24, 18, 18, 18, 18, 36, 36, 36, 18, 20, 20, 20,\n",
            "        20, 18, 36, 20, 24, 36, 20, 20, 20, 36, 18, 36, 20, 18, 20, 18, 20, 24,\n",
            "        24, 18, 36, 24, 18, 36, 20, 36, 20, 24, 20, 36, 36, 36, 36, 24, 24, 36,\n",
            "        20, 36, 36, 20, 24, 20, 18, 36, 20, 36, 20, 20, 24, 24, 20, 18, 18, 18,\n",
            "        24, 24, 24, 20, 24, 36, 24, 20, 24, 20, 36, 36, 20, 36, 36, 24, 20, 24,\n",
            "        20, 24, 24, 36, 18, 20, 18, 36, 18, 20, 18, 24, 20, 18, 24, 18, 18, 20,\n",
            "        20, 18, 24, 20, 20, 36, 20, 18, 36, 24, 20, 24, 20, 18, 24, 36, 36, 20,\n",
            "        36, 24, 24, 20, 36, 24, 24, 36, 36, 36, 36, 36, 24, 18, 20, 24, 36, 36,\n",
            "        24, 18, 20, 20, 24, 20, 24, 18, 24, 24, 24, 24, 24, 20, 36, 24, 20, 24,\n",
            "        18, 36, 36, 24, 18, 20, 36, 24, 24, 18, 24, 20, 24, 18, 20, 20, 24, 24,\n",
            "        18, 18, 20, 24, 20, 36, 20, 20, 20, 24, 20, 24, 20, 20, 24, 18, 18, 20,\n",
            "        18, 36, 20, 18, 20, 20, 24, 36, 36, 18, 18, 18, 18, 18, 36, 20, 20, 36,\n",
            "        24, 36, 24, 18, 18, 20, 24, 24, 18, 20, 18, 20, 24, 20, 36, 20, 18, 20,\n",
            "        20, 36, 24, 20, 36, 20, 36, 18, 20, 24, 20, 18, 20, 36, 20, 18, 18, 20,\n",
            "        18, 36, 20, 24, 20, 20, 24, 36, 24, 18, 24, 18, 18, 20, 20, 24, 20, 24,\n",
            "        20, 20, 36, 24, 18, 36, 24, 20, 20, 36, 20, 24, 24, 36, 36, 18, 18, 24,\n",
            "        24, 20, 24, 20, 36, 24, 18, 18, 18, 36, 18, 36, 24, 20, 20, 24, 20, 18,\n",
            "        24, 20, 24, 24, 36, 36, 24, 18, 18, 20, 24, 36, 36, 20, 24, 20, 36, 24,\n",
            "        36, 24, 36, 24, 18, 24, 18, 18, 18, 20, 36, 36, 36, 24, 36, 24, 20, 24,\n",
            "        24, 18, 36, 24, 36, 24, 18, 18, 20, 36, 18, 20, 18, 24, 20, 24, 24, 20,\n",
            "        20, 36, 24, 18, 36, 36, 36, 24, 20, 18, 18, 18, 18, 18, 36, 20, 20, 24,\n",
            "        36, 36, 20, 20, 18, 20, 20, 36, 24, 24, 18, 18, 36, 24, 24, 20, 36, 24,\n",
            "        24, 36, 24, 18, 36, 24, 24, 18, 24, 36, 24, 24, 20, 24, 20, 24, 18, 24,\n",
            "        24, 18, 18, 24, 20, 20, 36, 18, 36, 18, 20, 20, 20, 36, 20, 24, 18, 36,\n",
            "        24, 18, 18, 20, 36, 24, 24, 20, 36, 24, 18, 36, 36, 18, 36, 20, 36, 20,\n",
            "        24, 18, 36, 36, 36, 24, 18, 24, 20, 24, 20, 20, 36, 20, 18, 24, 18, 24,\n",
            "        20, 24, 36, 20, 24, 36, 18, 24, 20, 18, 36, 20, 24, 18, 36, 18, 18, 18,\n",
            "        20, 18, 36, 36, 18, 20, 24, 24, 24, 18, 36, 24, 24, 24, 24, 20, 24, 18,\n",
            "        18, 18, 20, 36, 24, 20, 20, 18, 20, 20, 36, 24, 36, 36, 20, 24, 18, 18,\n",
            "        18, 36, 24, 18, 20, 24, 20, 24, 20, 18, 18, 18, 36, 24, 24, 24, 20, 36,\n",
            "        36, 18, 20, 18, 24, 24, 24, 20, 24, 18, 36, 36, 20, 24, 36, 20, 18, 24,\n",
            "        24, 24, 20, 36, 24, 24, 20, 20, 18, 24, 20, 24, 36, 36, 20, 36, 20, 18,\n",
            "        20, 18, 24, 36, 24, 24, 20, 36, 36, 24, 18, 18, 24, 20, 24, 24, 36, 24,\n",
            "        18, 36, 20, 20, 18, 24, 20, 24, 36, 24, 36, 20, 24, 18, 18, 18, 36, 24,\n",
            "        36, 18, 20, 18, 18, 36, 24, 20, 18, 36, 20, 24, 20, 36, 36, 20, 20, 20,\n",
            "        24, 36, 36, 20, 20, 24, 20, 36, 36, 36, 20, 18, 20, 36, 24, 24, 20, 36,\n",
            "        24, 18, 18, 36, 24, 36, 20, 24, 24, 24, 20, 36, 18, 36, 36, 24, 24, 20,\n",
            "        18, 18, 24, 18, 24, 20, 18, 36, 36, 24, 20, 24, 18, 18, 18, 36, 18, 20,\n",
            "        18, 20, 24, 20, 18, 20, 18, 24, 24, 18, 18, 20, 36, 36, 20, 18, 20, 24,\n",
            "        20, 20, 24, 24, 18, 18, 18, 20, 36, 36, 36, 20, 24, 20, 18, 20, 18, 24,\n",
            "        36, 18, 36, 24, 36, 24, 24, 20, 36, 24, 18, 36, 18, 20, 24, 20, 18, 20,\n",
            "        18, 20, 24, 20, 20, 18, 24, 18, 18, 18, 36, 36, 20, 18, 24, 24, 20, 36,\n",
            "        24, 20, 18, 20, 24, 20, 24, 24, 36, 20, 24, 20, 18, 18, 24, 24, 24, 20,\n",
            "        24, 24, 36, 36, 20, 36, 18, 18, 24, 36, 20, 36, 18, 18, 24, 20, 24, 20,\n",
            "        18, 24, 20, 18, 20, 18, 24, 36, 18, 24, 20, 36, 18, 20, 18, 36, 20, 36,\n",
            "        24, 20, 18, 20, 24, 20, 18, 20, 24, 20, 36, 24, 18, 18, 18, 20, 20, 24,\n",
            "        36, 24, 24, 24, 18, 24, 24, 20, 18, 36, 36, 18, 24, 24, 24, 18, 36, 20,\n",
            "        18, 24, 36, 20, 24, 20, 24, 20, 20, 36, 24, 24, 36, 18, 36, 36, 18, 20,\n",
            "        20, 18, 18, 20, 36, 24, 18, 18, 18, 18, 18, 18, 20, 24, 18, 24, 24, 36,\n",
            "        20, 36, 20, 24, 36, 18, 24, 18, 24, 36, 18, 24, 18, 20, 20, 18, 18, 18,\n",
            "        36, 18, 18, 24, 20, 20, 36, 18, 36, 18])\n"
          ]
        }
      ]
    },
    {
      "cell_type": "code",
      "source": [
        "# Let's now split up the data into train and validation sets\n",
        "n = int(0.9*len(data)) # first 90% will be train, rest val\n",
        "train_data = data[:n]\n",
        "val_data = data[n:]"
      ],
      "metadata": {
        "id": "LcHxM4tBugki"
      },
      "execution_count": 15,
      "outputs": []
    },
    {
      "cell_type": "code",
      "source": [
        "block_size = 8\n",
        "train_data[:block_size+1]"
      ],
      "metadata": {
        "colab": {
          "base_uri": "https://localhost:8080/"
        },
        "id": "yU7zAM0burv_",
        "outputId": "26eb7608-05c7-49e5-9295-ce002ff3c983"
      },
      "execution_count": 16,
      "outputs": [
        {
          "output_type": "execute_result",
          "data": {
            "text/plain": [
              "tensor([17, 22, 59, 44, 49, 46, 58, 50, 44])"
            ]
          },
          "metadata": {},
          "execution_count": 16
        }
      ]
    },
    {
      "cell_type": "code",
      "source": [
        "x = train_data[:block_size]\n",
        "y = train_data[1:block_size+1]\n",
        "for t in range(block_size):\n",
        "    context = x[:t+1]\n",
        "    target = y[t]\n",
        "    print(f\"when input is {context} the target: {target}\")"
      ],
      "metadata": {
        "colab": {
          "base_uri": "https://localhost:8080/"
        },
        "id": "DLgdS52UuuWs",
        "outputId": "ba0a1730-e992-47f8-e9d4-468a41b7e166"
      },
      "execution_count": 17,
      "outputs": [
        {
          "output_type": "stream",
          "name": "stdout",
          "text": [
            "when input is tensor([17]) the target: 22\n",
            "when input is tensor([17, 22]) the target: 59\n",
            "when input is tensor([17, 22, 59]) the target: 44\n",
            "when input is tensor([17, 22, 59, 44]) the target: 49\n",
            "when input is tensor([17, 22, 59, 44, 49]) the target: 46\n",
            "when input is tensor([17, 22, 59, 44, 49, 46]) the target: 58\n",
            "when input is tensor([17, 22, 59, 44, 49, 46, 58]) the target: 50\n",
            "when input is tensor([17, 22, 59, 44, 49, 46, 58, 50]) the target: 44\n"
          ]
        }
      ]
    },
    {
      "cell_type": "code",
      "source": [
        "torch.manual_seed(1337)\n",
        "batch_size = 4 # how many independent sequences will we process in parallel?\n",
        "block_size = 8 # what is the maximum context length for predictions?\n",
        "\n",
        "def get_batch(split):\n",
        "    # generate a small batch of data of inputs x and targets y\n",
        "    data = train_data if split == 'train' else val_data\n",
        "    ix = torch.randint(len(data) - block_size, (batch_size,))\n",
        "    x = torch.stack([data[i:i+block_size] for i in ix])\n",
        "    y = torch.stack([data[i+1:i+block_size+1] for i in ix])\n",
        "    return x, y\n",
        "\n",
        "xb, yb = get_batch('train')\n",
        "print('inputs:')\n",
        "print(xb.shape)\n",
        "print(xb)\n",
        "print('targets:')\n",
        "print(yb.shape)\n",
        "print(yb)\n",
        "\n",
        "print('----')\n",
        "\n",
        "for b in range(batch_size): # batch dimension\n",
        "    for t in range(block_size): # time dimension\n",
        "        context = xb[b, :t+1]\n",
        "        target = yb[b,t]\n",
        "        print(f\"when input is {context.tolist()} the target: {target}\")"
      ],
      "metadata": {
        "colab": {
          "base_uri": "https://localhost:8080/"
        },
        "id": "2RWcWo3quzHG",
        "outputId": "fe44f60d-1249-4755-a3d0-baefbf3dbdfe"
      },
      "execution_count": 18,
      "outputs": [
        {
          "output_type": "stream",
          "name": "stdout",
          "text": [
            "inputs:\n",
            "torch.Size([4, 8])\n",
            "tensor([[36, 24, 18, 18, 24, 36, 36, 18],\n",
            "        [36, 24, 36, 18, 36, 20, 18, 18],\n",
            "        [36, 20, 20, 20, 36, 36, 36, 18],\n",
            "        [36, 36, 36, 24, 36, 20, 24, 18]])\n",
            "targets:\n",
            "torch.Size([4, 8])\n",
            "tensor([[24, 18, 18, 24, 36, 36, 18, 24],\n",
            "        [24, 36, 18, 36, 20, 18, 18, 24],\n",
            "        [20, 20, 20, 36, 36, 36, 18, 18],\n",
            "        [36, 36, 24, 36, 20, 24, 18, 36]])\n",
            "----\n",
            "when input is [36] the target: 24\n",
            "when input is [36, 24] the target: 18\n",
            "when input is [36, 24, 18] the target: 18\n",
            "when input is [36, 24, 18, 18] the target: 24\n",
            "when input is [36, 24, 18, 18, 24] the target: 36\n",
            "when input is [36, 24, 18, 18, 24, 36] the target: 36\n",
            "when input is [36, 24, 18, 18, 24, 36, 36] the target: 18\n",
            "when input is [36, 24, 18, 18, 24, 36, 36, 18] the target: 24\n",
            "when input is [36] the target: 24\n",
            "when input is [36, 24] the target: 36\n",
            "when input is [36, 24, 36] the target: 18\n",
            "when input is [36, 24, 36, 18] the target: 36\n",
            "when input is [36, 24, 36, 18, 36] the target: 20\n",
            "when input is [36, 24, 36, 18, 36, 20] the target: 18\n",
            "when input is [36, 24, 36, 18, 36, 20, 18] the target: 18\n",
            "when input is [36, 24, 36, 18, 36, 20, 18, 18] the target: 24\n",
            "when input is [36] the target: 20\n",
            "when input is [36, 20] the target: 20\n",
            "when input is [36, 20, 20] the target: 20\n",
            "when input is [36, 20, 20, 20] the target: 36\n",
            "when input is [36, 20, 20, 20, 36] the target: 36\n",
            "when input is [36, 20, 20, 20, 36, 36] the target: 36\n",
            "when input is [36, 20, 20, 20, 36, 36, 36] the target: 18\n",
            "when input is [36, 20, 20, 20, 36, 36, 36, 18] the target: 18\n",
            "when input is [36] the target: 36\n",
            "when input is [36, 36] the target: 36\n",
            "when input is [36, 36, 36] the target: 24\n",
            "when input is [36, 36, 36, 24] the target: 36\n",
            "when input is [36, 36, 36, 24, 36] the target: 20\n",
            "when input is [36, 36, 36, 24, 36, 20] the target: 24\n",
            "when input is [36, 36, 36, 24, 36, 20, 24] the target: 18\n",
            "when input is [36, 36, 36, 24, 36, 20, 24, 18] the target: 36\n"
          ]
        }
      ]
    },
    {
      "cell_type": "code",
      "source": [
        "print(xb) # our input to the transformer"
      ],
      "metadata": {
        "colab": {
          "base_uri": "https://localhost:8080/"
        },
        "id": "HHRQs3EYu5Im",
        "outputId": "318fa555-a947-4862-fd92-4794ed79380b"
      },
      "execution_count": 19,
      "outputs": [
        {
          "output_type": "stream",
          "name": "stdout",
          "text": [
            "tensor([[36, 24, 18, 18, 24, 36, 36, 18],\n",
            "        [36, 24, 36, 18, 36, 20, 18, 18],\n",
            "        [36, 20, 20, 20, 36, 36, 36, 18],\n",
            "        [36, 36, 36, 24, 36, 20, 24, 18]])\n"
          ]
        }
      ]
    },
    {
      "cell_type": "code",
      "source": [
        "import torch\n",
        "import torch.nn as nn\n",
        "from torch.nn import functional as F\n",
        "torch.manual_seed(1337)\n",
        "\n",
        "class BigramLanguageModel(nn.Module):\n",
        "\n",
        "    def __init__(self, vocab_size):\n",
        "        super().__init__()\n",
        "        # each token directly reads off the logits for the next token from a lookup table\n",
        "        self.token_embedding_table = nn.Embedding(vocab_size, vocab_size)\n",
        "\n",
        "    def forward(self, idx, targets=None):\n",
        "\n",
        "        # idx and targets are both (B,T) tensor of integers\n",
        "        logits = self.token_embedding_table(idx) # (B,T,C)\n",
        "\n",
        "        if targets is None:\n",
        "            loss = None\n",
        "        else:\n",
        "            B, T, C = logits.shape\n",
        "            logits = logits.view(B*T, C)\n",
        "            targets = targets.view(B*T)\n",
        "            loss = F.cross_entropy(logits, targets)\n",
        "\n",
        "        return logits, loss\n",
        "\n",
        "    def generate(self, idx, max_new_tokens):\n",
        "        # idx is (B, T) array of indices in the current context\n",
        "        for _ in range(max_new_tokens):\n",
        "            # get the predictions\n",
        "            logits, loss = self(idx)\n",
        "            # focus only on the last time step\n",
        "            logits = logits[:, -1, :] # becomes (B, C)\n",
        "            # apply softmax to get probabilities\n",
        "            probs = F.softmax(logits, dim=-1) # (B, C)\n",
        "            # sample from the distribution\n",
        "            idx_next = torch.multinomial(probs, num_samples=1) # (B, 1)\n",
        "            # append sampled index to the running sequence\n",
        "            idx = torch.cat((idx, idx_next), dim=1) # (B, T+1)\n",
        "        return idx\n",
        "\n",
        "m = BigramLanguageModel(vocab_size)\n",
        "logits, loss = m(xb, yb)\n",
        "print(logits.shape)\n",
        "print(loss)\n",
        "\n",
        "print(decode(m.generate(idx = torch.zeros((1, 1), dtype=torch.long), max_new_tokens=100)[0].tolist()))\n"
      ],
      "metadata": {
        "colab": {
          "base_uri": "https://localhost:8080/"
        },
        "id": "HTWY0ZF3u8-e",
        "outputId": "21f56118-14b9-47d5-ff1d-4d1dc2e13411"
      },
      "execution_count": 20,
      "outputs": [
        {
          "output_type": "stream",
          "name": "stdout",
          "text": [
            "torch.Size([32, 67])\n",
            "tensor(4.8664, grad_fn=<NllLossBackward0>)\n",
            "\n",
            "w/eV9oeT2S2R,UK:\n",
            "MAy.:wUryu6-v>Ev6PCERvE.hmrBs1w DMBAsoRzAdOIuef>LYwr>YNbKNDUPBtyEn9ixa4J5weKR6uL26M\n"
          ]
        }
      ]
    },
    {
      "cell_type": "code",
      "source": [
        "# create a PyTorch optimizer\n",
        "optimizer = torch.optim.AdamW(m.parameters(), lr=1e-3)"
      ],
      "metadata": {
        "id": "TIxsuWhCvAY4"
      },
      "execution_count": 21,
      "outputs": []
    },
    {
      "cell_type": "code",
      "source": [
        "batch_size = 32\n",
        "for steps in range(100): # increase number of steps for good results...\n",
        "\n",
        "    # sample a batch of data\n",
        "    xb, yb = get_batch('train')\n",
        "\n",
        "    # evaluate the loss\n",
        "    logits, loss = m(xb, yb)\n",
        "    optimizer.zero_grad(set_to_none=True)\n",
        "    loss.backward()\n",
        "    optimizer.step()\n",
        "\n",
        "print(loss.item())\n"
      ],
      "metadata": {
        "colab": {
          "base_uri": "https://localhost:8080/"
        },
        "id": "5xb2cOeovDww",
        "outputId": "487dbe13-fff8-4405-b651-52fb062d3ff9"
      },
      "execution_count": 22,
      "outputs": [
        {
          "output_type": "stream",
          "name": "stdout",
          "text": [
            "4.73695707321167\n"
          ]
        }
      ]
    },
    {
      "cell_type": "code",
      "source": [
        "print(decode(m.generate(idx = torch.zeros((1, 1), dtype=torch.long), max_new_tokens=500)[0].tolist()))"
      ],
      "metadata": {
        "colab": {
          "base_uri": "https://localhost:8080/"
        },
        "id": "amTWnuQCvF3h",
        "outputId": "186a91c7-b242-4f71-b6be-1b0c37b52859"
      },
      "execution_count": 23,
      "outputs": [
        {
          "output_type": "stream",
          "name": "stdout",
          "text": [
            "\n",
            "TTnc9A.ZCFf13v69oPfZTHCsVa69GLIm>spglwF/sl2NbvgP4dB6\n",
            "iOyGFAf8q3p3vb/k,.nx2spk.OgyfoE8VU7eK_gP>Juk>Ew vAucO,KD_GKxb\n",
            ".S:aSqBv>RH\n",
            "v\n",
            "r90A>J7a28bReR-JR:wFF6-bsVg0BuzFR0D/IB_LwfMPP5YT2N.uBmCE-rO8V9dHMyYqz5 2U-J>lL6-YNpFFf 42GJ6y.N7oRO179b_xMP1wroLo8v-Z4rvecd8tO8SNCYbz0VnMmN:kR67bR1_Tl2Rb_wGv_ 35vH.D_fu/d,xO87waY1NC31xZk,v5Gih9aJS6-u98.2fMdO8Bg89YNkx3vE_cdRDuBqdRLoaNr3tfM3IU9gegTSiKBrnMP4ezCPd,5G16aA3Im>_fvMCzYVHqNP-Yby2sCaA8CE_th6AOkJqNby_l2ttr\n",
            "Bm4JtE 7w_tO4aigzI_ABRbvtntEf>xV\n",
            "72RzFIToa_y0Lmm/Z8xnZSV\n",
            "\n"
          ]
        }
      ]
    },
    {
      "cell_type": "code",
      "source": [
        "# toy example illustrating how matrix multiplication can be used for a \"weighted aggregation\"\n",
        "torch.manual_seed(42)\n",
        "a = torch.tril(torch.ones(3, 3))\n",
        "a = a / torch.sum(a, 1, keepdim=True)\n",
        "b = torch.randint(0,10,(3,2)).float()\n",
        "c = a @ b\n",
        "print('a=')\n",
        "print(a)\n",
        "print('--')\n",
        "print('b=')\n",
        "print(b)\n",
        "print('--')\n",
        "print('c=')\n",
        "print(c)"
      ],
      "metadata": {
        "colab": {
          "base_uri": "https://localhost:8080/"
        },
        "id": "R23EU5EsvIlC",
        "outputId": "f5123079-aa55-4676-e328-03cd9c27c685"
      },
      "execution_count": 24,
      "outputs": [
        {
          "output_type": "stream",
          "name": "stdout",
          "text": [
            "a=\n",
            "tensor([[1.0000, 0.0000, 0.0000],\n",
            "        [0.5000, 0.5000, 0.0000],\n",
            "        [0.3333, 0.3333, 0.3333]])\n",
            "--\n",
            "b=\n",
            "tensor([[2., 7.],\n",
            "        [6., 4.],\n",
            "        [6., 5.]])\n",
            "--\n",
            "c=\n",
            "tensor([[2.0000, 7.0000],\n",
            "        [4.0000, 5.5000],\n",
            "        [4.6667, 5.3333]])\n"
          ]
        }
      ]
    },
    {
      "cell_type": "code",
      "source": [
        "# consider the following toy example:\n",
        "\n",
        "torch.manual_seed(1337)\n",
        "B,T,C = 4,8,2 # batch, time, channels\n",
        "x = torch.randn(B,T,C)\n",
        "x.shape"
      ],
      "metadata": {
        "colab": {
          "base_uri": "https://localhost:8080/"
        },
        "id": "ofaEbQiyvNU0",
        "outputId": "9069ffe6-f736-4681-c264-be9ab55f8abd"
      },
      "execution_count": 25,
      "outputs": [
        {
          "output_type": "execute_result",
          "data": {
            "text/plain": [
              "torch.Size([4, 8, 2])"
            ]
          },
          "metadata": {},
          "execution_count": 25
        }
      ]
    },
    {
      "cell_type": "code",
      "source": [
        "# We want x[b,t] = mean_{i<=t} x[b,i]\n",
        "xbow = torch.zeros((B,T,C))\n",
        "for b in range(B):\n",
        "    for t in range(T):\n",
        "        xprev = x[b,:t+1] # (t,C)\n",
        "        xbow[b,t] = torch.mean(xprev, 0)"
      ],
      "metadata": {
        "id": "dReTxs-9vPyo"
      },
      "execution_count": 26,
      "outputs": []
    },
    {
      "cell_type": "code",
      "source": [
        "# version 2: using matrix multiply for a weighted aggregation\n",
        "wei = torch.tril(torch.ones(T, T))\n",
        "wei = wei / wei.sum(1, keepdim=True)\n",
        "xbow2 = wei @ x # (B, T, T) @ (B, T, C) ----> (B, T, C)\n",
        "torch.allclose(xbow, xbow2)"
      ],
      "metadata": {
        "colab": {
          "base_uri": "https://localhost:8080/"
        },
        "id": "tY95RQ_7vRlX",
        "outputId": "ce28feb1-1835-462f-9ea5-f5898b503025"
      },
      "execution_count": 27,
      "outputs": [
        {
          "output_type": "execute_result",
          "data": {
            "text/plain": [
              "False"
            ]
          },
          "metadata": {},
          "execution_count": 27
        }
      ]
    },
    {
      "cell_type": "code",
      "source": [
        "# version 3: use Softmax\n",
        "tril = torch.tril(torch.ones(T, T))\n",
        "wei = torch.zeros((T,T))\n",
        "wei = wei.masked_fill(tril == 0, float('-inf'))\n",
        "wei = F.softmax(wei, dim=-1)\n",
        "xbow3 = wei @ x\n",
        "torch.allclose(xbow, xbow3)"
      ],
      "metadata": {
        "colab": {
          "base_uri": "https://localhost:8080/"
        },
        "id": "L6YWeH_BvTtG",
        "outputId": "8bf69119-0877-4004-f190-98d2d65b650b"
      },
      "execution_count": 28,
      "outputs": [
        {
          "output_type": "execute_result",
          "data": {
            "text/plain": [
              "False"
            ]
          },
          "metadata": {},
          "execution_count": 28
        }
      ]
    },
    {
      "cell_type": "code",
      "source": [
        "# version 4: self-attention!\n",
        "torch.manual_seed(1337)\n",
        "B,T,C = 4,8,32 # batch, time, channels\n",
        "x = torch.randn(B,T,C)\n",
        "\n",
        "# let's see a single Head perform self-attention\n",
        "head_size = 16\n",
        "key = nn.Linear(C, head_size, bias=False)\n",
        "query = nn.Linear(C, head_size, bias=False)\n",
        "value = nn.Linear(C, head_size, bias=False)\n",
        "k = key(x)   # (B, T, 16)\n",
        "q = query(x) # (B, T, 16)\n",
        "wei =  q @ k.transpose(-2, -1) # (B, T, 16) @ (B, 16, T) ---> (B, T, T)\n",
        "\n",
        "tril = torch.tril(torch.ones(T, T))\n",
        "#wei = torch.zeros((T,T))\n",
        "wei = wei.masked_fill(tril == 0, float('-inf'))\n",
        "wei = F.softmax(wei, dim=-1)\n",
        "\n",
        "v = value(x)\n",
        "out = wei @ v\n",
        "#out = wei @ x\n",
        "\n",
        "out.shape"
      ],
      "metadata": {
        "colab": {
          "base_uri": "https://localhost:8080/"
        },
        "id": "EL4hKR2FvZ0I",
        "outputId": "1bf9d3be-a2df-4f4e-894e-4bc2cdd09c8f"
      },
      "execution_count": 29,
      "outputs": [
        {
          "output_type": "execute_result",
          "data": {
            "text/plain": [
              "torch.Size([4, 8, 16])"
            ]
          },
          "metadata": {},
          "execution_count": 29
        }
      ]
    },
    {
      "cell_type": "code",
      "source": [
        "wei[0]"
      ],
      "metadata": {
        "colab": {
          "base_uri": "https://localhost:8080/"
        },
        "id": "kLf8n6TpvfG8",
        "outputId": "e44badfc-8940-4a88-d5e3-f35eab763647"
      },
      "execution_count": 30,
      "outputs": [
        {
          "output_type": "execute_result",
          "data": {
            "text/plain": [
              "tensor([[1.0000, 0.0000, 0.0000, 0.0000, 0.0000, 0.0000, 0.0000, 0.0000],\n",
              "        [0.1574, 0.8426, 0.0000, 0.0000, 0.0000, 0.0000, 0.0000, 0.0000],\n",
              "        [0.2088, 0.1646, 0.6266, 0.0000, 0.0000, 0.0000, 0.0000, 0.0000],\n",
              "        [0.5792, 0.1187, 0.1889, 0.1131, 0.0000, 0.0000, 0.0000, 0.0000],\n",
              "        [0.0294, 0.1052, 0.0469, 0.0276, 0.7909, 0.0000, 0.0000, 0.0000],\n",
              "        [0.0176, 0.2689, 0.0215, 0.0089, 0.6812, 0.0019, 0.0000, 0.0000],\n",
              "        [0.1691, 0.4066, 0.0438, 0.0416, 0.1048, 0.2012, 0.0329, 0.0000],\n",
              "        [0.0210, 0.0843, 0.0555, 0.2297, 0.0573, 0.0709, 0.2423, 0.2391]],\n",
              "       grad_fn=<SelectBackward0>)"
            ]
          },
          "metadata": {},
          "execution_count": 30
        }
      ]
    },
    {
      "cell_type": "code",
      "source": [
        "k = torch.randn(B,T,head_size)\n",
        "q = torch.randn(B,T,head_size)\n",
        "wei = q @ k.transpose(-2, -1) * head_size**-0.5"
      ],
      "metadata": {
        "id": "cozY1Azvvkxc"
      },
      "execution_count": 31,
      "outputs": []
    },
    {
      "cell_type": "code",
      "source": [
        "k.var()"
      ],
      "metadata": {
        "colab": {
          "base_uri": "https://localhost:8080/"
        },
        "id": "-SiKh4-qvsNh",
        "outputId": "fe9bf048-3a73-4649-9949-1978cf59fd51"
      },
      "execution_count": 32,
      "outputs": [
        {
          "output_type": "execute_result",
          "data": {
            "text/plain": [
              "tensor(1.0449)"
            ]
          },
          "metadata": {},
          "execution_count": 32
        }
      ]
    },
    {
      "cell_type": "code",
      "source": [
        "q.var()"
      ],
      "metadata": {
        "colab": {
          "base_uri": "https://localhost:8080/"
        },
        "id": "TZNYm8b2vt0-",
        "outputId": "4d89a9eb-73b2-42ba-8e10-22957b1b32e8"
      },
      "execution_count": 33,
      "outputs": [
        {
          "output_type": "execute_result",
          "data": {
            "text/plain": [
              "tensor(1.0700)"
            ]
          },
          "metadata": {},
          "execution_count": 33
        }
      ]
    },
    {
      "cell_type": "code",
      "source": [
        "wei.var()"
      ],
      "metadata": {
        "colab": {
          "base_uri": "https://localhost:8080/"
        },
        "id": "l_kIi8cGvv34",
        "outputId": "120f4c21-f3b2-41cb-d270-7b3ea377de13"
      },
      "execution_count": 34,
      "outputs": [
        {
          "output_type": "execute_result",
          "data": {
            "text/plain": [
              "tensor(1.0918)"
            ]
          },
          "metadata": {},
          "execution_count": 34
        }
      ]
    },
    {
      "cell_type": "code",
      "source": [
        "torch.softmax(torch.tensor([0.1, -0.2, 0.3, -0.2, 0.5]), dim=-1)"
      ],
      "metadata": {
        "colab": {
          "base_uri": "https://localhost:8080/"
        },
        "id": "MRq35EP0vxi7",
        "outputId": "8ac88341-6f25-4acb-9472-9bfea9810522"
      },
      "execution_count": 35,
      "outputs": [
        {
          "output_type": "execute_result",
          "data": {
            "text/plain": [
              "tensor([0.1925, 0.1426, 0.2351, 0.1426, 0.2872])"
            ]
          },
          "metadata": {},
          "execution_count": 35
        }
      ]
    },
    {
      "cell_type": "code",
      "source": [
        "torch.softmax(torch.tensor([0.1, -0.2, 0.3, -0.2, 0.5])*8, dim=-1) # gets too peaky, converges to one-hot"
      ],
      "metadata": {
        "colab": {
          "base_uri": "https://localhost:8080/"
        },
        "id": "xA3KF_oovzcz",
        "outputId": "db01bfff-3694-4ac9-8631-766a3c074f0f"
      },
      "execution_count": 36,
      "outputs": [
        {
          "output_type": "execute_result",
          "data": {
            "text/plain": [
              "tensor([0.0326, 0.0030, 0.1615, 0.0030, 0.8000])"
            ]
          },
          "metadata": {},
          "execution_count": 36
        }
      ]
    },
    {
      "cell_type": "code",
      "source": [
        "class LayerNorm1d: # (used to be BatchNorm1d)\n",
        "\n",
        "  def __init__(self, dim, eps=1e-5, momentum=0.1):\n",
        "    self.eps = eps\n",
        "    self.gamma = torch.ones(dim)\n",
        "    self.beta = torch.zeros(dim)\n",
        "\n",
        "  def __call__(self, x):\n",
        "    # calculate the forward pass\n",
        "    xmean = x.mean(1, keepdim=True) # batch mean\n",
        "    xvar = x.var(1, keepdim=True) # batch variance\n",
        "    xhat = (x - xmean) / torch.sqrt(xvar + self.eps) # normalize to unit variance\n",
        "    self.out = self.gamma * xhat + self.beta\n",
        "    return self.out\n",
        "\n",
        "  def parameters(self):\n",
        "    return [self.gamma, self.beta]\n",
        "\n",
        "torch.manual_seed(1337)\n",
        "module = LayerNorm1d(100)\n",
        "x = torch.randn(32, 100) # batch size 32 of 100-dimensional vectors\n",
        "x = module(x)\n",
        "x.shape"
      ],
      "metadata": {
        "colab": {
          "base_uri": "https://localhost:8080/"
        },
        "id": "RHcsWkL6v1l3",
        "outputId": "c13313fb-d9a3-4004-90f4-64521e346b17"
      },
      "execution_count": 37,
      "outputs": [
        {
          "output_type": "execute_result",
          "data": {
            "text/plain": [
              "torch.Size([32, 100])"
            ]
          },
          "metadata": {},
          "execution_count": 37
        }
      ]
    },
    {
      "cell_type": "code",
      "source": [
        "x[:,0].mean(), x[:,0].std() # mean,std of one feature across all batch inputs"
      ],
      "metadata": {
        "colab": {
          "base_uri": "https://localhost:8080/"
        },
        "id": "FYvWZ5Axv4tr",
        "outputId": "ba1ff023-0be2-4302-e0bd-3f06c3e6d284"
      },
      "execution_count": 38,
      "outputs": [
        {
          "output_type": "execute_result",
          "data": {
            "text/plain": [
              "(tensor(0.1469), tensor(0.8803))"
            ]
          },
          "metadata": {},
          "execution_count": 38
        }
      ]
    },
    {
      "cell_type": "code",
      "source": [
        "x[0,:].mean(), x[0,:].std() # mean,std of a single input from the batch, of its features"
      ],
      "metadata": {
        "colab": {
          "base_uri": "https://localhost:8080/"
        },
        "id": "hbEkBBuuv7Fq",
        "outputId": "0162fb9e-0b72-487d-b977-8dc23f921d04"
      },
      "execution_count": 39,
      "outputs": [
        {
          "output_type": "execute_result",
          "data": {
            "text/plain": [
              "(tensor(-9.5367e-09), tensor(1.0000))"
            ]
          },
          "metadata": {},
          "execution_count": 39
        }
      ]
    },
    {
      "cell_type": "code",
      "source": [
        "import torch\n",
        "import torch.nn as nn\n",
        "from torch.nn import functional as F\n",
        "\n",
        "# hyperparameters\n",
        "batch_size = 16 # how many independent sequences will we process in parallel?\n",
        "block_size = 32 # what is the maximum context length for predictions?\n",
        "max_iters = 5000\n",
        "eval_interval = 100\n",
        "learning_rate = 1e-3\n",
        "device = 'cuda' if torch.cuda.is_available() else 'cpu'\n",
        "eval_iters = 200\n",
        "n_embd = 64\n",
        "n_head = 4\n",
        "n_layer = 4\n",
        "dropout = 0.0\n",
        "# ------------\n",
        "\n",
        "torch.manual_seed(1337)\n",
        "\n",
        "# wget https://raw.githubusercontent.com/karpathy/char-rnn/master/data/tinyshakespeare/input.txt\n",
        "with open('plasmid_data.txt', 'r', encoding='utf-8') as f:\n",
        "    text = f.read()\n",
        "\n",
        "# here are all the unique characters that occur in this text\n",
        "chars = sorted(list(set(text)))\n",
        "vocab_size = len(chars)\n",
        "# create a mapping from characters to integers\n",
        "stoi = { ch:i for i,ch in enumerate(chars) }\n",
        "itos = { i:ch for i,ch in enumerate(chars) }\n",
        "encode = lambda s: [stoi[c] for c in s] # encoder: take a string, output a list of integers\n",
        "decode = lambda l: ''.join([itos[i] for i in l]) # decoder: take a list of integers, output a string\n",
        "\n",
        "# Train and test splits\n",
        "data = torch.tensor(encode(text), dtype=torch.long)\n",
        "n = int(0.9*len(data)) # first 90% will be train, rest val\n",
        "train_data = data[:n]\n",
        "val_data = data[n:]\n",
        "\n",
        "# data loading\n",
        "def get_batch(split):\n",
        "    # generate a small batch of data of inputs x and targets y\n",
        "    data = train_data if split == 'train' else val_data\n",
        "    ix = torch.randint(len(data) - block_size, (batch_size,))\n",
        "    x = torch.stack([data[i:i+block_size] for i in ix])\n",
        "    y = torch.stack([data[i+1:i+block_size+1] for i in ix])\n",
        "    x, y = x.to(device), y.to(device)\n",
        "    return x, y\n",
        "\n",
        "@torch.no_grad()\n",
        "def estimate_loss():\n",
        "    out = {}\n",
        "    model.eval()\n",
        "    for split in ['train', 'val']:\n",
        "        losses = torch.zeros(eval_iters)\n",
        "        for k in range(eval_iters):\n",
        "            X, Y = get_batch(split)\n",
        "            logits, loss = model(X, Y)\n",
        "            losses[k] = loss.item()\n",
        "        out[split] = losses.mean()\n",
        "    model.train()\n",
        "    return out\n",
        "\n",
        "class Head(nn.Module):\n",
        "    \"\"\" one head of self-attention \"\"\"\n",
        "\n",
        "    def __init__(self, head_size):\n",
        "        super().__init__()\n",
        "        self.key = nn.Linear(n_embd, head_size, bias=False)\n",
        "        self.query = nn.Linear(n_embd, head_size, bias=False)\n",
        "        self.value = nn.Linear(n_embd, head_size, bias=False)\n",
        "        self.register_buffer('tril', torch.tril(torch.ones(block_size, block_size)))\n",
        "\n",
        "        self.dropout = nn.Dropout(dropout)\n",
        "\n",
        "    def forward(self, x):\n",
        "        B,T,C = x.shape\n",
        "        k = self.key(x)   # (B,T,C)\n",
        "        q = self.query(x) # (B,T,C)\n",
        "        # compute attention scores (\"affinities\")\n",
        "        wei = q @ k.transpose(-2,-1) * C**-0.5 # (B, T, C) @ (B, C, T) -> (B, T, T)\n",
        "        wei = wei.masked_fill(self.tril[:T, :T] == 0, float('-inf')) # (B, T, T)\n",
        "        wei = F.softmax(wei, dim=-1) # (B, T, T)\n",
        "        wei = self.dropout(wei)\n",
        "        # perform the weighted aggregation of the values\n",
        "        v = self.value(x) # (B,T,C)\n",
        "        out = wei @ v # (B, T, T) @ (B, T, C) -> (B, T, C)\n",
        "        return out\n",
        "\n",
        "class MultiHeadAttention(nn.Module):\n",
        "    \"\"\" multiple heads of self-attention in parallel \"\"\"\n",
        "\n",
        "    def __init__(self, num_heads, head_size):\n",
        "        super().__init__()\n",
        "        self.heads = nn.ModuleList([Head(head_size) for _ in range(num_heads)])\n",
        "        self.proj = nn.Linear(n_embd, n_embd)\n",
        "        self.dropout = nn.Dropout(dropout)\n",
        "\n",
        "    def forward(self, x):\n",
        "        out = torch.cat([h(x) for h in self.heads], dim=-1)\n",
        "        out = self.dropout(self.proj(out))\n",
        "        return out\n",
        "\n",
        "class FeedFoward(nn.Module):\n",
        "    \"\"\" a simple linear layer followed by a non-linearity \"\"\"\n",
        "\n",
        "    def __init__(self, n_embd):\n",
        "        super().__init__()\n",
        "        self.net = nn.Sequential(\n",
        "            nn.Linear(n_embd, 4 * n_embd),\n",
        "            nn.ReLU(),\n",
        "            nn.Linear(4 * n_embd, n_embd),\n",
        "            nn.Dropout(dropout),\n",
        "        )\n",
        "\n",
        "    def forward(self, x):\n",
        "        return self.net(x)\n",
        "\n",
        "class Block(nn.Module):\n",
        "    \"\"\" Transformer block: communication followed by computation \"\"\"\n",
        "\n",
        "    def __init__(self, n_embd, n_head):\n",
        "        # n_embd: embedding dimension, n_head: the number of heads we'd like\n",
        "        super().__init__()\n",
        "        head_size = n_embd // n_head\n",
        "        self.sa = MultiHeadAttention(n_head, head_size)\n",
        "        self.ffwd = FeedFoward(n_embd)\n",
        "        self.ln1 = nn.LayerNorm(n_embd)\n",
        "        self.ln2 = nn.LayerNorm(n_embd)\n",
        "\n",
        "    def forward(self, x):\n",
        "        x = x + self.sa(self.ln1(x))\n",
        "        x = x + self.ffwd(self.ln2(x))\n",
        "        return x\n",
        "\n",
        "# super simple bigram model\n",
        "class BigramLanguageModel(nn.Module):\n",
        "\n",
        "    def __init__(self):\n",
        "        super().__init__()\n",
        "        # each token directly reads off the logits for the next token from a lookup table\n",
        "        self.token_embedding_table = nn.Embedding(vocab_size, n_embd)\n",
        "        self.position_embedding_table = nn.Embedding(block_size, n_embd)\n",
        "        self.blocks = nn.Sequential(*[Block(n_embd, n_head=n_head) for _ in range(n_layer)])\n",
        "        self.ln_f = nn.LayerNorm(n_embd) # final layer norm\n",
        "        self.lm_head = nn.Linear(n_embd, vocab_size)\n",
        "\n",
        "    def forward(self, idx, targets=None):\n",
        "        B, T = idx.shape\n",
        "\n",
        "        # idx and targets are both (B,T) tensor of integers\n",
        "        tok_emb = self.token_embedding_table(idx) # (B,T,C)\n",
        "        pos_emb = self.position_embedding_table(torch.arange(T, device=device)) # (T,C)\n",
        "        x = tok_emb + pos_emb # (B,T,C)\n",
        "        x = self.blocks(x) # (B,T,C)\n",
        "        x = self.ln_f(x) # (B,T,C)\n",
        "        logits = self.lm_head(x) # (B,T,vocab_size)\n",
        "\n",
        "        if targets is None:\n",
        "            loss = None\n",
        "        else:\n",
        "            B, T, C = logits.shape\n",
        "            logits = logits.view(B*T, C)\n",
        "            targets = targets.view(B*T)\n",
        "            loss = F.cross_entropy(logits, targets)\n",
        "\n",
        "        return logits, loss\n",
        "\n",
        "    def generate(self, idx, max_new_tokens):\n",
        "        # idx is (B, T) array of indices in the current context\n",
        "        for _ in range(max_new_tokens):\n",
        "            # crop idx to the last block_size tokens\n",
        "            idx_cond = idx[:, -block_size:]\n",
        "            # get the predictions\n",
        "            logits, loss = self(idx_cond)\n",
        "            # focus only on the last time step\n",
        "            logits = logits[:, -1, :] # becomes (B, C)\n",
        "            # apply softmax to get probabilities\n",
        "            probs = F.softmax(logits, dim=-1) # (B, C)\n",
        "            # sample from the distribution\n",
        "            idx_next = torch.multinomial(probs, num_samples=1) # (B, 1)\n",
        "            # append sampled index to the running sequence\n",
        "            idx = torch.cat((idx, idx_next), dim=1) # (B, T+1)\n",
        "        return idx\n",
        "\n",
        "model = BigramLanguageModel()\n",
        "m = model.to(device)\n",
        "# print the number of parameters in the model\n",
        "print(sum(p.numel() for p in m.parameters())/1e6, 'M parameters')\n",
        "\n",
        "# create a PyTorch optimizer\n",
        "optimizer = torch.optim.AdamW(model.parameters(), lr=learning_rate)\n",
        "\n",
        "for iter in range(max_iters):\n",
        "\n",
        "    # every once in a while evaluate the loss on train and val sets\n",
        "    if iter % eval_interval == 0 or iter == max_iters - 1:\n",
        "        losses = estimate_loss()\n",
        "        print(f\"step {iter}: train loss {losses['train']:.4f}, val loss {losses['val']:.4f}\")\n",
        "\n",
        "    # sample a batch of data\n",
        "    xb, yb = get_batch('train')\n",
        "\n",
        "    # evaluate the loss\n",
        "    logits, loss = model(xb, yb)\n",
        "    optimizer.zero_grad(set_to_none=True)\n",
        "    loss.backward()\n",
        "    optimizer.step()\n",
        "\n",
        "# generate from the model\n",
        "context = torch.zeros((1, 1), dtype=torch.long, device=device)\n",
        "print(decode(m.generate(context, max_new_tokens=2000)[0].tolist()))\n"
      ],
      "metadata": {
        "colab": {
          "base_uri": "https://localhost:8080/"
        },
        "id": "Z7MAOhAOv9BX",
        "outputId": "d1aa45b4-89e3-49ae-aefe-c87b32dbcc5d"
      },
      "execution_count": 40,
      "outputs": [
        {
          "output_type": "stream",
          "name": "stdout",
          "text": [
            "0.209987 M parameters\n",
            "step 0: train loss 4.2950, val loss 4.2990\n",
            "step 100: train loss 1.3824, val loss 1.3657\n",
            "step 200: train loss 1.3713, val loss 1.3561\n",
            "step 300: train loss 1.3679, val loss 1.3576\n",
            "step 400: train loss 1.3657, val loss 1.3653\n",
            "step 500: train loss 1.3653, val loss 1.3568\n",
            "step 600: train loss 1.3643, val loss 1.3541\n",
            "step 700: train loss 1.3681, val loss 1.3527\n",
            "step 800: train loss 1.3618, val loss 1.3486\n",
            "step 900: train loss 1.3617, val loss 1.3517\n",
            "step 1000: train loss 1.3745, val loss 1.3625\n",
            "step 1100: train loss 1.3619, val loss 1.3446\n",
            "step 1200: train loss 1.3613, val loss 1.3594\n",
            "step 1300: train loss 1.3558, val loss 1.3464\n",
            "step 1400: train loss 1.3597, val loss 1.3505\n",
            "step 1500: train loss 1.3667, val loss 1.3495\n",
            "step 1600: train loss 1.3572, val loss 1.3436\n",
            "step 1700: train loss 1.3591, val loss 1.3524\n",
            "step 1800: train loss 1.3550, val loss 1.3436\n",
            "step 1900: train loss 1.3550, val loss 1.3436\n",
            "step 2000: train loss 1.3538, val loss 1.3434\n",
            "step 2100: train loss 1.3592, val loss 1.3496\n",
            "step 2200: train loss 1.3571, val loss 1.3424\n",
            "step 2300: train loss 1.3546, val loss 1.3498\n",
            "step 2400: train loss 1.3535, val loss 1.3425\n",
            "step 2500: train loss 1.3532, val loss 1.3494\n",
            "step 2600: train loss 1.3579, val loss 1.3404\n",
            "step 2700: train loss 1.3537, val loss 1.3450\n",
            "step 2800: train loss 1.3562, val loss 1.3410\n",
            "step 2900: train loss 1.3520, val loss 1.3467\n",
            "step 3000: train loss 1.3516, val loss 1.3384\n",
            "step 3100: train loss 1.3502, val loss 1.3408\n",
            "step 3200: train loss 1.3518, val loss 1.3388\n",
            "step 3300: train loss 1.3543, val loss 1.3447\n",
            "step 3400: train loss 1.3483, val loss 1.3420\n",
            "step 3500: train loss 1.3502, val loss 1.3412\n",
            "step 3600: train loss 1.3532, val loss 1.3402\n",
            "step 3700: train loss 1.3494, val loss 1.3456\n",
            "step 3800: train loss 1.3519, val loss 1.3422\n",
            "step 3900: train loss 1.3462, val loss 1.3396\n",
            "step 4000: train loss 1.3483, val loss 1.3390\n",
            "step 4100: train loss 1.3527, val loss 1.3403\n",
            "step 4200: train loss 1.3502, val loss 1.3358\n",
            "step 4300: train loss 1.3549, val loss 1.3379\n",
            "step 4400: train loss 1.3485, val loss 1.3402\n",
            "step 4500: train loss 1.3476, val loss 1.3414\n",
            "step 4600: train loss 1.3476, val loss 1.3399\n",
            "step 4700: train loss 1.3466, val loss 1.3372\n",
            "step 4800: train loss 1.3498, val loss 1.3383\n",
            "step 4900: train loss 1.3478, val loss 1.3357\n",
            "step 4999: train loss 1.3476, val loss 1.3413\n",
            "\n",
            "CATTGCGAGATTCGCCTGCCCGGTGATCGCCCCGAGATGCATCTCGTTGGCAATAATCAAAGCTTCTAGCTGAATATTTAAAATGAAGTATATGAACGGTCAACTCTCGGATCTTGATTAACCAATTGGGGTGCCTGTTCAGACCTCCGGAATGCCGTAGCCGCCCTGATTGCTCGATCCACCCTTACATCTCCGAATCGTTCAATATCTTCGTCTCGCCAACTTAGCCATCGCGTTTTGCGAGTTGAACCTTAACTGCCCGATCACCCGCTGTCTTTATTGCCGAAGGGCCTTCCTTCACGCACGAAAAAACCGGAGCAGCCGCCTACGTCCGTGCGCACCATAGGGTGCAGGCAGGCCTTGGTTTCAAACTACCAGGCTGCCACGTGTGAAAAACGGGCGAACACCGGAGGCGATTCGGCCGGCCGCCGGTCGTCTGACACGCGGTGGCGGCGCTGGACCGCCCCGAGCGGAGCCTGCCGAGCGTTCACCCGGTGCCGCCGCCAATCGAGCTTGCCACTCCCTCCAGCGGAGCCCCGGGCGCGCCTCGCTGGAGGTGAACATCGCGCGCCACCGTTCCGACCTCCCGGCCCCCGATATCCAGTGCCGCTATCATTTTCAGTGGCGCTCGGACGTTCCTTCTGGGTGCGAAATCTGGTTGCCATCCTGCGCTAAAGACCATTTAGCGCACGTCTACCTCGTTTACCCCTAGTTCCAGCAGACGAGGGAGGCTTTTGAAACCGCCCCATCTGCCAAAAATTCCATTCCCATACCAGGGAGCTTGCGGATATTATAGCGCAAATGACTCATATCCGAGAACTGAGATAGGTATAAAATTCCGCACCCCAAGTTGAACGATGTTGATCTACGCGTCGACTTTCTGGGCGAGGGTGATCCGCCAGAAGACAATTTTCCTCGGCTTCTGATTGCTGGCGCAGTATCCAAGCGCAATGATTACGCTTCTTCATCCGTCAAAACCTTTTGTCGCTCAAATTCCACTGGGCATGATCAGTAACGCACCTTTTCACGGTTTGCTGGCCGTCGCCGTGGCCTTTGAGCTGCGTCTGGATGCTTTCGGCATTCACCCATGGGATGTCGCCTTTGCCAGGGCTTCTCTTGACGGCCTTACGCGGTCCCCGCAGGCGCATGCAGTCGTCAGTCGCDCCCGCTGAAAAGGATTACTGAATTCGGTTGCTGCGCGGATTGTGGTTTTAGTCGTTGACGTCCGTTTGCGCCTGATCTTACGAATCGCGGAGCTTTTCCGGCTTTCGTAAGACGCGGCCTTACTCTGGCGGCTGAGCGGGCGCCCGCATGAGATACAGTCACCAGCCTGCCCGCTGGTAGCGGCTGCCACGGCCGCCCGCGACCAATCCGCCCCTTTACTGGCGGCCCAAGCCTTCCGAACTACATATACTTGCAACTTTTTGCTAACAGCTGTCGATTACTGCCGTCTGCGCCGTACCGCTGGGCGATCTCGGCACCACGCCTCCGTCCACGGCCCAGTGGGCATCCACCTGTCTGGGCTGAGGTACCTGTGATGGAAGTCATCGCAGCAGGGATAAACTTCAGTTGAATGCCTGCTGGCATGGCGGATATCATGGGAACCCGAGCCCTTTGGCTCGTCCGACGCCGCCGCATCAACGGCGTGATCGGCCGGACCGGTCTGGGCGTCGATGGTCGAAGAGAACCAGATCATCAAAGTTGTTCGCGCCATAAACCTCTTTTTTAAGCGATGTACCTCACGCCCTCGCTGGGCCTTTCGCTCGGATTTTTGTCATAATTGTGGTGCCCACAGACGTCAATACCCGCGCTCCGGAGAAAGTTGAAGACCACATAGAGTGCATCGCCATTGCTGTCTCCTTGTCTCGCGTTTGAGCGACCAGTACGCGCGGCGGTGCGAAAACCTGTGTCAGTGCTGACTGATGATGTCTAGCTACGACCAAACCTTCGGCAGAAAAACTTTAGGCTCCAGTAACGAATGATCTGGGCGCAGCTGCTGC\n"
          ]
        }
      ]
    },
    {
      "cell_type": "code",
      "source": [
        "context = torch.zeros((1, 1), dtype=torch.long, device=device)\n",
        "print(decode(m.generate(context, max_new_tokens=500)[0].tolist()))"
      ],
      "metadata": {
        "colab": {
          "base_uri": "https://localhost:8080/"
        },
        "id": "tNh1xFtfwCs2",
        "outputId": "8e845f1a-a5c0-44a1-a707-9b8fa0cd801e"
      },
      "execution_count": 41,
      "outputs": [
        {
          "output_type": "stream",
          "name": "stdout",
          "text": [
            "\n",
            "TCATACCTAACTTGGGGCACGTCTAATTGTTAGACACATTGCAACGCGCAAAAGCGGAATATCTGGGGTGTCGCGCGCGAAAACGACTTCCGCCAGTAAAAAGGCTTCAAGACGGGCCACGATGAATAAAAAGTGGCGTGTTTGCTTTTTTTTTTACTTTTCCGTCTATCTGCACAGTTCAAACGATATCTCATGCTGATATCAAGAATGTAACCCGCTCAGACGATACAAAGGCGCCGGCCAAGGCACCGTTTACCTCCCCGCGGTTTTCAGATTCGATTTCCTGTCATCCTTCCTCCCGCATAGCCATTATCACCCTGGCGCGCGTACCAGTATTTTAAATTCTGAACGCACCGATCGTACCTTTTCCGGTAGACCCACTCCGGTGAACGATGCCGGTAGCTCGTGAAAGCGTGACAGGCTGATTCAGCAGCTTTCAGCAATGACGCCGCCTGGCGTAAAAATCTCCGCCCCGTGCTGGCCGTCGAGCCGCGCTGCTC\n"
          ]
        }
      ]
    },
    {
      "cell_type": "code",
      "source": [
        "context = torch.zeros((1, 1), dtype=torch.long, device=device)\n",
        "print(decode(m.generate(context, max_new_tokens=50)[0].tolist()))"
      ],
      "metadata": {
        "id": "EdzrNRAr4GvT",
        "colab": {
          "base_uri": "https://localhost:8080/"
        },
        "outputId": "d0800891-fbf1-40c6-8b00-1325f7d294f7"
      },
      "execution_count": 43,
      "outputs": [
        {
          "output_type": "stream",
          "name": "stdout",
          "text": [
            "\n",
            "CTTTTCCCCATCAGCTTCGACGGCGCTAGGGCGCGGTCATGTGCCTCGCG\n"
          ]
        }
      ]
    },
    {
      "cell_type": "code",
      "source": [],
      "metadata": {
        "id": "oDQay22b-eBj"
      },
      "execution_count": null,
      "outputs": []
    }
  ]
}